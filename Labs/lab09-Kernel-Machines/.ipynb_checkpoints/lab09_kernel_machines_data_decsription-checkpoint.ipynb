{
 "cells": [
  {
   "cell_type": "markdown",
   "metadata": {},
   "source": [
    "# Lab09: Kernel Machines\n",
    "## Mehmet Gönen\n",
    "### April 29, 2022"
   ]
  },
  {
   "cell_type": "code",
   "execution_count": 1,
   "metadata": {},
   "outputs": [],
   "source": [
    "import cvxopt as cvx\n",
    "import matplotlib.pyplot as plt\n",
    "import numpy as np\n",
    "import scipy.spatial.distance as dt"
   ]
  },
  {
   "cell_type": "markdown",
   "metadata": {},
   "source": [
    "## Parameters"
   ]
  },
  {
   "cell_type": "code",
   "execution_count": 2,
   "metadata": {},
   "outputs": [],
   "source": [
    "np.random.seed(421)\n",
    "# mean parameters\n",
    "class_means = np.array([[+2.0, +2.0],\n",
    "                        [-1.5, +0.5],\n",
    "                        [+1.5, -1.5]])\n",
    "# covariance parameters\n",
    "class_covariances = np.array([[[+0.1, 0.0],\n",
    "                               [0.0, +0.1]],\n",
    "                              [[+0.2, 0.0],\n",
    "                               [0.0, +0.2]],\n",
    "                              [[+0.2, 0.0],\n",
    "                               [0.0, +0.2]]])\n",
    "# sample sizes\n",
    "class_sizes = np.array([2, 49, 49])"
   ]
  },
  {
   "cell_type": "markdown",
   "metadata": {},
   "source": [
    "## Data Generation"
   ]
  },
  {
   "cell_type": "code",
   "execution_count": 3,
   "metadata": {},
   "outputs": [],
   "source": [
    "# generate random samples\n",
    "points1 = np.random.multivariate_normal(class_means[0,:], class_covariances[0,:,:], class_sizes[0])\n",
    "points2 = np.random.multivariate_normal(class_means[1,:], class_covariances[1,:,:], class_sizes[1])\n",
    "points3 = np.random.multivariate_normal(class_means[2,:], class_covariances[2,:,:], class_sizes[2])\n",
    "X = np.vstack((points1, points2, points3))"
   ]
  },
  {
   "cell_type": "markdown",
   "metadata": {},
   "source": [
    "## Exporting Data"
   ]
  },
  {
   "cell_type": "code",
   "execution_count": 4,
   "metadata": {},
   "outputs": [],
   "source": [
    "# write data to a file\n",
    "np.savetxt(\"lab09_data_description_data_set.csv\", X, fmt = \"%f,%f\")"
   ]
  },
  {
   "cell_type": "markdown",
   "metadata": {},
   "source": [
    "## Plotting Data"
   ]
  },
  {
   "cell_type": "code",
   "execution_count": 5,
   "metadata": {
    "scrolled": true
   },
   "outputs": [
    {
     "data": {
      "image/png": "[encoded data removed]",
      "text/plain": [
       "<Figure size 720x720 with 1 Axes>"
      ]
     },
     "metadata": {
      "needs_background": "light"
     },
     "output_type": "display_data"
    }
   ],
   "source": [
    "# plot data points generated\n",
    "plt.figure(figsize = (10, 10))\n",
    "plt.plot(X[:,0], X[:,1], \"k.\", markersize = 10)\n",
    "plt.xlabel(\"x1\")\n",
    "plt.ylabel(\"x2\")\n",
    "plt.show()"
   ]
  },
  {
   "cell_type": "markdown",
   "metadata": {},
   "source": [
    "## Importing Data"
   ]
  },
  {
   "cell_type": "code",
   "execution_count": 6,
   "metadata": {},
   "outputs": [],
   "source": [
    "# read data into memory\n",
    "data_set = np.genfromtxt(\"lab09_data_description_data_set.csv\", delimiter = \",\")\n",
    "\n",
    "# get X values\n",
    "X_train = data_set[:,[0, 1]]\n",
    "\n",
    "# get number of samples and number of features\n",
    "N_train = X_train.shape[0]\n",
    "D_train = X_train.shape[1]"
   ]
  },
  {
   "cell_type": "markdown",
   "metadata": {},
   "source": [
    "## Distance and Kernel Functions"
   ]
  },
  {
   "cell_type": "markdown",
   "metadata": {},
   "source": [
    "$\\begin{equation}\n",
    "    \\begin{split}\n",
    "        d(\\boldsymbol{x}_{i}, \\boldsymbol{x}_{j}) &= ||\\boldsymbol{x}_{i} - \\boldsymbol{x}_{j}||_{2} = \\sqrt{(\\boldsymbol{x}_{i} - \\boldsymbol{x}_{j})^{\\top} (\\boldsymbol{x}_{i} - \\boldsymbol{x}_{j})} = \\sqrt{\\sum\\limits_{d = 1}^{D}(x_{id} - x_{jd})^{2}} \\\\\n",
    "        k(\\boldsymbol{x}_{i}, \\boldsymbol{x}_{j}) &= \\exp\\left(-\\dfrac{||\\boldsymbol{x}_{i} -\\boldsymbol{x}_{j}||_{2}^{2}}{2s^{2}}\\right)\n",
    "    \\end{split}\n",
    "\\end{equation}$"
   ]
  },
  {
   "cell_type": "code",
   "execution_count": 7,
   "metadata": {},
   "outputs": [],
   "source": [
    "# define Gaussian kernel function\n",
    "def gaussian_kernel(X1, X2, s):\n",
    "    D = dt.cdist(X1, X2)\n",
    "    K = np.exp(-D**2 / (2 * s**2))\n",
    "    return(K)"
   ]
  },
  {
   "cell_type": "markdown",
   "metadata": {},
   "source": [
    "## Learning Algorithm"
   ]
  },
  {
   "cell_type": "markdown",
   "metadata": {},
   "source": [
    "#### Primal Problem\n",
    "$\\begin{equation}\n",
    "\t\\begin{split}\n",
    "\t\t\\mbox{minimize}\\;\\;& R^{2} + C \\sum\\limits_{i = 1}^{N} \\xi_{i} \\\\\n",
    "\t\t\\mbox{with respect to}\\;\\;& \\boldsymbol{a} \\in \\mathbb{R}^{D},\\;\\; \\boldsymbol{\\xi} \\in \\mathbb{R}^{N},\\;\\; R \\in \\mathbb{R} \\\\\n",
    "\t\t\\mbox{subject to}\\;\\;& \\|\\boldsymbol{x}_{i} - \\boldsymbol{a}\\|_{2}^{2}  \\leq R^{2} + \\xi_{i} \\;\\;\\;\\; i = 1,2,\\dots,N \\\\\n",
    "\t\t& \\xi_{i} \\geq 0\\;\\;\\;\\; i = 1,2,\\dots,N \\\\\n",
    "\t\t\\mbox{where}\\;\\;& C \\in \\mathbb{R}_{+}\n",
    "\t\\end{split}\n",
    "\\end{equation}$\n",
    "\n",
    "#### Dual Problem\n",
    "$\\begin{equation}\n",
    "\t\\begin{split}\n",
    "\t\t\\mbox{maximize}\\;\\;& \\sum\\limits_{i = 1}^{N} \\alpha_{i} k(\\boldsymbol{x}_{i}, \\boldsymbol{x}_{i}) - \\sum\\limits_{i = 1}^{N} \\sum\\limits_{j = 1}^{N} \\alpha_{i} \\alpha_{j}  k(\\boldsymbol{x}_{i}, \\boldsymbol{x}_{j}) \\\\\n",
    "\t\t\\mbox{with respect to}\\;\\;& \\boldsymbol{\\alpha} \\in \\mathbb{R}^{N} \\\\\n",
    "\t\t\\mbox{subject to}\\;\\;& \\sum\\limits_{i = 1}^{N} \\alpha_{i} = 1 \\\\\n",
    "\t\t& 0 \\leq \\alpha_{i} \\leq C\\;\\;\\;\\; i = 1,2,\\dots,N \\\\\n",
    "\t\t\\mbox{where}\\;\\;& C \\in \\mathbb{R}_{+}\n",
    "\t\\end{split}\n",
    "\\end{equation}$\n",
    "\n",
    "#### Dual Problem in Matrix-Vector Form\n",
    "$\\begin{equation}\n",
    "\t\\begin{split}\n",
    "\t\t\\mbox{minimize}\\;\\;&-\\dfrac{1}{2}\\mbox{diag}(\\mathbf{K})^{\\top} \\boldsymbol{\\alpha} + \\dfrac{1}{2} \\boldsymbol{\\alpha}^{\\top} \\mathbf{K} \\boldsymbol{\\alpha} \\\\\n",
    "\t\t\\mbox{with respect to}\\;\\; & \\boldsymbol{\\alpha} \\in \\mathbb{R}^{N} \\\\\n",
    "\t\t\\mbox{subject to}\\;\\;& \\boldsymbol{1}^{\\top} \\boldsymbol{\\alpha} = 1 \\\\\n",
    "\t\t& \\boldsymbol{0} \\leq \\boldsymbol{\\alpha} \\leq C \\boldsymbol{1} \\\\\n",
    "\t\t\\mbox{where}\\;\\;& C \\in \\mathbb{R}_{+}\n",
    "\t\\end{split}\n",
    "\\end{equation}$"
   ]
  },
  {
   "cell_type": "code",
   "execution_count": 8,
   "metadata": {
    "scrolled": false
   },
   "outputs": [
    {
     "name": "stdout",
     "output_type": "stream",
     "text": [
      "     pcost       dcost       gap    pres   dres\n",
      " 0: -3.8867e-01 -1.0591e+01  2e+02  1e+01  3e-16\n",
      " 1: -3.5386e-01 -9.1199e+00  1e+01  7e-02  6e-16\n",
      " 2: -3.5320e-01 -1.0129e+00  7e-01  4e-03  4e-16\n",
      " 3: -3.7691e-01 -4.9327e-01  1e-01  2e-04  3e-16\n",
      " 4: -3.9532e-01 -4.2708e-01  3e-02  2e-16  3e-16\n",
      " 5: -4.0067e-01 -4.1007e-01  9e-03  2e-16  3e-16\n",
      " 6: -4.0277e-01 -4.0457e-01  2e-03  2e-16  3e-16\n",
      " 7: -4.0330e-01 -4.0366e-01  4e-04  3e-16  3e-16\n",
      " 8: -4.0342e-01 -4.0345e-01  2e-05  2e-16  3e-16\n",
      " 9: -4.0343e-01 -4.0343e-01  3e-07  2e-16  3e-16\n",
      "Optimal solution found.\n"
     ]
    }
   ],
   "source": [
    "# calculate Gaussian kernel\n",
    "s = 1\n",
    "K_train = gaussian_kernel(X_train, X_train, s)\n",
    "\n",
    "# set learning parameters\n",
    "C = 0.1\n",
    "epsilon = 1e-3\n",
    "\n",
    "P = cvx.matrix(K_train)\n",
    "q = cvx.matrix(-0.5 * np.diag(K_train))\n",
    "G = cvx.matrix(np.vstack((-np.eye(N_train), np.eye(N_train))))\n",
    "h = cvx.matrix(np.vstack((np.zeros((N_train, 1)), C * np.ones((N_train, 1)))))\n",
    "A = cvx.matrix(np.ones((1, N_train)))\n",
    "b = cvx.matrix(1.0)\n",
    "\n",
    "# use cvxopt library to solve QP problems\n",
    "result = cvx.solvers.qp(P, q, G, h, A, b)\n",
    "alpha = np.reshape(result[\"x\"], N_train)\n",
    "alpha[alpha < C * epsilon] = 0\n",
    "alpha[alpha > C * (1 - epsilon)] = C\n",
    "    \n",
    "# find bias parameter\n",
    "support_indices, = np.where(alpha != 0)\n",
    "active_indices, = np.where(np.logical_and(alpha != 0, alpha < C))\n",
    "R = np.sqrt(np.matmul(alpha[support_indices], np.matmul(K_train[np.ix_(support_indices, support_indices)], alpha[support_indices])) + np.mean(np.diag(K_train[np.ix_(active_indices, active_indices)])) - 2 * np.mean(np.matmul(K_train[np.ix_(active_indices, support_indices)], alpha[support_indices])))"
   ]
  },
  {
   "cell_type": "markdown",
   "metadata": {},
   "source": [
    "## Visualization"
   ]
  },
  {
   "cell_type": "code",
   "execution_count": 9,
   "metadata": {},
   "outputs": [
    {
     "data": {
      "image/png": "[encoded data removed]",
      "text/plain": [
       "<Figure size 720x720 with 1 Axes>"
      ]
     },
     "metadata": {
      "needs_background": "light"
     },
     "output_type": "display_data"
    }
   ],
   "source": [
    "# evaluate discriminant function on a grid\n",
    "x1_interval = np.linspace(-3, +3, 41)\n",
    "x2_interval = np.linspace(-3, +3, 41)\n",
    "x1_grid, x2_grid = np.meshgrid(x1_interval, x2_interval)\n",
    "X_test = np.transpose(np.vstack((x1_grid.flatten(), x2_grid.flatten())))\n",
    "K_test_train = gaussian_kernel(X_test, X_train, s)\n",
    "K_test_test = gaussian_kernel(X_test, X_test, s)\n",
    "discriminant_values = np.reshape(R**2 - np.matmul(alpha[support_indices], np.matmul(K_train[np.ix_(support_indices, support_indices)], alpha[support_indices])) + 2 * np.matmul(K_test_train, alpha) - np.diag(K_test_test), x1_grid.shape)\n",
    "\n",
    "plt.figure(figsize = (10, 10))\n",
    "plt.plot(X_train[:,0], X_train[:,1], \"r.\", markersize = 10)\n",
    "plt.plot(X_train[support_indices, 0], X_train[support_indices, 1], \"ko\", markersize = 12, fillstyle = \"none\")\n",
    "plt.contour(x1_grid, x2_grid, discriminant_values, levels = 0, colors = \"k\", linestyles = [\"dashed\", \"solid\", \"dashed\"])\n",
    "plt.xlabel(\"x1\")\n",
    "plt.ylabel(\"x2\")\n",
    "plt.show()"
   ]
  }
 ],
 "metadata": {
  "kernelspec": {
   "display_name": "Python 3 (ipykernel)",
   "language": "python",
   "name": "python3"
  },
  "language_info": {
   "codemirror_mode": {
    "name": "ipython",
    "version": 3
   },
   "file_extension": ".py",
   "mimetype": "text/x-python",
   "name": "python",
   "nbconvert_exporter": "python",
   "pygments_lexer": "ipython3",
   "version": "3.8.9"
  }
 },
 "nbformat": 4,
 "nbformat_minor": 4
}
